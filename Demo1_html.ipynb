{
  "nbformat": 4,
  "nbformat_minor": 0,
  "metadata": {
    "colab": {
      "provenance": [],
      "authorship_tag": "ABX9TyMPCAckE3UmK7bXFsnx5fiw",
      "include_colab_link": true
    },
    "kernelspec": {
      "name": "python3",
      "display_name": "Python 3"
    },
    "language_info": {
      "name": "python"
    }
  },
  "cells": [
    {
      "cell_type": "markdown",
      "metadata": {
        "id": "view-in-github",
        "colab_type": "text"
      },
      "source": [
        "<a href=\"https://colab.research.google.com/github/Bruan-Karl/WDD-58044-1-/blob/main/Demo1_html.ipynb\" target=\"_parent\"><img src=\"https://colab.research.google.com/assets/colab-badge.svg\" alt=\"Open In Colab\"/></a>"
      ]
    },
    {
      "cell_type": "code",
      "execution_count": 2,
      "metadata": {
        "colab": {
          "base_uri": "https://localhost:8080/",
          "height": 440
        },
        "id": "2STz-s4uwKcw",
        "outputId": "33e83d85-82ff-4599-ed4d-8256fdafa10b"
      },
      "outputs": [
        {
          "output_type": "display_data",
          "data": {
            "text/plain": [
              "<IPython.core.display.HTML object>"
            ],
            "text/html": [
              "\n",
              "<html>\n",
              "\t<head>\n",
              "\t\t\n",
              "\t\t<title>This is my first web page</title>\n",
              "\t</head>\n",
              "\t<body background = \"adamson.jpg\" bgcolor = \"blue\">\n",
              "\t\t\t<i>\n",
              "\t\t\t<u>\n",
              "\t\t\t<h1 align = \"center\"><font face=\"Verdana\" >This is the content of my web page</font></h1>\n",
              "\t\t\t</u>\n",
              "\t\t\t</i>\n",
              "\t\t\t<h2>Figure 1. Category of Books </h2>\n",
              "\t\t\t<table border = 1>\n",
              "\t\t\t\t<tr>\n",
              "\t\t\t\t\t<th>BOOKS</th>\n",
              "\t\t\t\t\t<th>SOFTWARE</th>\n",
              "\t\t\t\t\t<th>HARDWARE</th>\n",
              "\t\t\t\t</tr>\n",
              "\t\t\t\t<tr>\n",
              "\t\t\t\t\t<td>Creative Design</td>\n",
              "\t\t\t\t\t<td>Office Suite</td>\n",
              "\t\t\t\t\t<td>Microprocessor</td>\n",
              "\t\t\t\t</tr>\n",
              "\t\t\t\t<tr>\n",
              "\t\t\t\t\t<td>Computer</td>\n",
              "\t\t\t\t\t<td>Microsoft</td>\n",
              "\t\t\t\t\t<td>Logic Circuits</td>\n",
              "\t\t\t\t</tr>\n",
              "\n",
              "\t\t\t<h3>Figure 1. Category of Books</h3>\n",
              "\t\t\t\t<ol>\n",
              "\t\t\t\t\t<li>Books\n",
              "\t\t\t\t\t\t<ul>\n",
              "\t\t\t\t\t\t\t<li>Creative Design\n",
              "\t\t\t\t\t\t\t<li>Computer\n",
              "\t\t\t\t\t\t</ul>\n",
              "\t\t\t\t\t<li>Software\n",
              "\t\t\t\t\t\t<ul>\n",
              "\t\t\t\t\t\t\t<li>Office Suite\n",
              "\t\t\t\t\t\t\t<li>Microsoft\n",
              "\t\t\t\t\t\t</ul>\n",
              "\t\t\t\t\t<li>Hardware\n",
              "\t\t\t\t\t\t<ul>\n",
              "\t\t\t\t\t\t\t<li>Microprocessor\n",
              "\t\t\t\t\t\t\t<li>Logic Circuits\n",
              "\t\t\t\t\t\t</ul>\n",
              "\t\t\t\t</ol>\n",
              "\t</body>\n",
              "\n",
              "</html>\n",
              "\n"
            ]
          },
          "metadata": {}
        }
      ],
      "source": [
        "import IPython\n",
        "html_code = \\\n",
        "'''\n",
        "<html>\n",
        "\t<head>\n",
        "\t\t\n",
        "\t\t<title>This is my first web page</title>\n",
        "\t</head>\n",
        "\t<body background = \"adamson.jpg\" bgcolor = \"blue\">\n",
        "\t\t\t<i>\n",
        "\t\t\t<u>\n",
        "\t\t\t<h1 align = \"center\"><font face=\"Verdana\" >This is the content of my web page</font></h1>\n",
        "\t\t\t</u>\n",
        "\t\t\t</i>\n",
        "\t\t\t<h2>Figure 1. Category of Books </h2>\n",
        "\t\t\t<table border = 1>\n",
        "\t\t\t\t<tr>\n",
        "\t\t\t\t\t<th>BOOKS</th>\n",
        "\t\t\t\t\t<th>SOFTWARE</th>\n",
        "\t\t\t\t\t<th>HARDWARE</th>\n",
        "\t\t\t\t</tr>\n",
        "\t\t\t\t<tr>\n",
        "\t\t\t\t\t<td>Creative Design</td>\n",
        "\t\t\t\t\t<td>Office Suite</td>\n",
        "\t\t\t\t\t<td>Microprocessor</td>\n",
        "\t\t\t\t</tr>\n",
        "\t\t\t\t<tr>\n",
        "\t\t\t\t\t<td>Computer</td>\n",
        "\t\t\t\t\t<td>Microsoft</td>\n",
        "\t\t\t\t\t<td>Logic Circuits</td>\n",
        "\t\t\t\t</tr>\n",
        "\n",
        "\t\t\t<h3>Figure 1. Category of Books</h3>\n",
        "\t\t\t\t<ol>\n",
        "\t\t\t\t\t<li>Books\n",
        "\t\t\t\t\t\t<ul>\n",
        "\t\t\t\t\t\t\t<li>Creative Design\n",
        "\t\t\t\t\t\t\t<li>Computer\n",
        "\t\t\t\t\t\t</ul>\n",
        "\t\t\t\t\t<li>Software\n",
        "\t\t\t\t\t\t<ul>\n",
        "\t\t\t\t\t\t\t<li>Office Suite\n",
        "\t\t\t\t\t\t\t<li>Microsoft\n",
        "\t\t\t\t\t\t</ul>\n",
        "\t\t\t\t\t<li>Hardware\n",
        "\t\t\t\t\t\t<ul>\n",
        "\t\t\t\t\t\t\t<li>Microprocessor\n",
        "\t\t\t\t\t\t\t<li>Logic Circuits\n",
        "\t\t\t\t\t\t</ul>\n",
        "\t\t\t\t</ol>\n",
        "\t</body>\n",
        "\n",
        "</html>\n",
        "\n",
        "'''\n",
        "\n",
        "display(IPython.display.HTML(html_code))"
      ]
    }
  ]
}